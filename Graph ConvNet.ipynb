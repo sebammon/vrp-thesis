{
 "cells": [
  {
   "cell_type": "markdown",
   "id": "05f9c7cd",
   "metadata": {},
   "source": [
    "# Understanding Graph ConvNet\n",
    "\n",
    "Paper: `Joshi, Laurent, and Bresson, ‘An Efficient Graph Convolutional Network Technique for the Travelling Salesman Problem’.`"
   ]
  },
  {
   "cell_type": "code",
   "execution_count": 2,
   "id": "751c0a14",
   "metadata": {},
   "outputs": [],
   "source": [
    "import numpy as np"
   ]
  },
  {
   "cell_type": "markdown",
   "id": "ddb01c54",
   "metadata": {},
   "source": [
    "## Model Inputs\n",
    "\n",
    "Inputs for the model for the TSP."
   ]
  },
  {
   "cell_type": "markdown",
   "id": "7b4dc841",
   "metadata": {},
   "source": [
    "The following is how the data is generated:\n",
    "\n",
    "```python\n",
    "solver = TSPSolver.from_data(nodes_coord[:,0], nodes_coord[:,1], norm=\"GEO\")  \n",
    "solution = solver.solve()\n",
    "f.write( \" \".join( str(x)+str(\" \")+str(y) for x,y in nodes_coord) )\n",
    "f.write( str(\" \") + str('output') + str(\" \") )\n",
    "f.write( str(\" \").join( str(node_idx+1) for node_idx in solution.tour) )\n",
    "f.write( str(\" \") + str(solution.tour[0]+1) + str(\" \") )\n",
    "f.write( \"\\n\" )\n",
    "```"
   ]
  },
  {
   "cell_type": "markdown",
   "id": "a89049a6",
   "metadata": {},
   "source": [
    "One line: `x_1, y_1, ... , x_n, y_n output 0 4 1 ... 2 0`\n",
    "\n",
    "The tours are cyclic."
   ]
  },
  {
   "cell_type": "markdown",
   "id": "dbe2d1b2",
   "metadata": {},
   "source": [
    "| Variable | Meaning | Dimensions |\n",
    "| -------- | ------- | ---------- |\n",
    "| batch_edges | Adj matrix special connections* | B x num_nodes x num_nodes\n",
    "| batch_edges_values | Distance Matrix | B x num_nodes x num_nodes\n",
    "| batch_edges_target | Target adj matrix | B x num_nodes x num_nodes\n",
    "| batch_nodes | Ones vector | B x num_nodes\n",
    "| batch_nodes_coord | Coordinates | B x num_nodes x 2\n",
    "| *batch_nodes_target* | Value represents ordering in tour | B x num_nodes\n",
    "\n",
    "\n",
    "*special connections:\n",
    "* 1 - k-nearest neighbour\n",
    "* 2 - self connections\n",
    "* 0 - otherwise"
   ]
  },
  {
   "cell_type": "code",
   "execution_count": null,
   "id": "30537e40",
   "metadata": {},
   "outputs": [],
   "source": []
  }
 ],
 "metadata": {
  "kernelspec": {
   "display_name": "Python 3 (ipykernel)",
   "language": "python",
   "name": "python3"
  },
  "language_info": {
   "codemirror_mode": {
    "name": "ipython",
    "version": 3
   },
   "file_extension": ".py",
   "mimetype": "text/x-python",
   "name": "python",
   "nbconvert_exporter": "python",
   "pygments_lexer": "ipython3",
   "version": "3.11.3"
  }
 },
 "nbformat": 4,
 "nbformat_minor": 5
}
