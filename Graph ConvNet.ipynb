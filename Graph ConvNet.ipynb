{
 "cells": [
  {
   "cell_type": "markdown",
   "id": "255b204d",
   "metadata": {},
   "source": [
    "# Graph ConvNet"
   ]
  },
  {
   "cell_type": "code",
   "execution_count": 1,
   "id": "00d28b2f",
   "metadata": {},
   "outputs": [],
   "source": [
    "LOAD_CHECKPOINT = True\n",
    "TENSORBOARD = False"
   ]
  },
  {
   "cell_type": "code",
   "execution_count": 2,
   "id": "aa54dee2",
   "metadata": {},
   "outputs": [],
   "source": [
    "import numpy as np\n",
    "import matplotlib.pyplot as plt\n",
    "import seaborn as sns\n",
    "import torch\n",
    "import torch.nn as nn\n",
    "import torch.nn.functional as F\n",
    "import networkx as nx\n",
    "\n",
    "from model import GraphNet\n",
    "from pathlib import Path\n",
    "from torch.utils.data import DataLoader\n",
    "from utils.common import get_device\n",
    "from utils.config import load_config\n",
    "from utils.model import save_checkpoint, load_checkpoint\n",
    "from sklearn.utils.class_weight import compute_class_weight\n",
    "from torch.utils.tensorboard import SummaryWriter"
   ]
  },
  {
   "cell_type": "markdown",
   "id": "917b562d",
   "metadata": {},
   "source": [
    "## Model Inputs"
   ]
  },
  {
   "cell_type": "markdown",
   "id": "5ce99565",
   "metadata": {},
   "source": [
    "| Variable | Meaning | Dimensions |\n",
    "| -------- | ------- | ---------- |\n",
    "| batch_edges | Adj matrix special connections* | B x num_nodes x num_nodes\n",
    "| batch_edges_values | Distance Matrix | B x num_nodes x num_nodes\n",
    "| batch_edges_target | Target adj matrix | B x num_nodes x num_nodes\n",
    "| batch_nodes | Ones vector | B x num_nodes\n",
    "| batch_nodes_coord | Coordinates | B x num_nodes x 2\n",
    "| *batch_nodes_target* | Value represents ordering in tour | B x num_nodes\n",
    "\n",
    "\n",
    "*special connections:\n",
    "* 1 - k-nearest neighbour\n",
    "* 2 - self connections\n",
    "* 0 - otherwise"
   ]
  },
  {
   "cell_type": "code",
   "execution_count": 3,
   "id": "0c5db78e",
   "metadata": {},
   "outputs": [
    {
     "name": "stdout",
     "output_type": "stream",
     "text": [
      "preds.pkl             vrp_20_demand_norm.pt\r\n",
      "vrp_20.pt             vrp_20_nodes.pkl\r\n"
     ]
    }
   ],
   "source": [
    "!ls data/"
   ]
  },
  {
   "cell_type": "code",
   "execution_count": 4,
   "id": "df7a9efa",
   "metadata": {},
   "outputs": [
    {
     "data": {
      "text/plain": [
       "(297, 16)"
      ]
     },
     "execution_count": 4,
     "metadata": {},
     "output_type": "execute_result"
    }
   ],
   "source": [
    "dataset = torch.load(\"data/vrp_20_demand_norm.pt\")\n",
    "\n",
    "train_dataloader = DataLoader(dataset.train, batch_size=64, shuffle=True)\n",
    "test_dataloader = DataLoader(dataset.test, batch_size=64, shuffle=True)\n",
    "\n",
    "len(train_dataloader), len(test_dataloader)"
   ]
  },
  {
   "cell_type": "code",
   "execution_count": 5,
   "id": "bdef47b2",
   "metadata": {},
   "outputs": [],
   "source": [
    "def first(tensor): return tensor[0]\n",
    "def get_batch(dl): return next(iter(dl))"
   ]
  },
  {
   "cell_type": "markdown",
   "id": "4574b8c7",
   "metadata": {},
   "source": [
    "## Visualise an instance\n",
    "\n",
    "TODO: Shouldn't be required at this point"
   ]
  },
  {
   "cell_type": "code",
   "execution_count": null,
   "id": "8f508d0c",
   "metadata": {},
   "outputs": [],
   "source": [
    "batch_features, batch_targets = get_batch(train_dataloader)\n",
    "coords = first(batch_features[0]).cpu().numpy()\n",
    "target = first(batch_targets).cpu().numpy()"
   ]
  },
  {
   "cell_type": "code",
   "execution_count": null,
   "id": "d09ce50e",
   "metadata": {},
   "outputs": [],
   "source": [
    "fig, ax = plt.subplots()\n",
    "\n",
    "ax.scatter(coords[:, 0], coords[:, 1])\n",
    "\n",
    "for i, row in enumerate(target):\n",
    "    args = np.argwhere(row>0).flatten()\n",
    "    x_i = coords[i]\n",
    "    \n",
    "    for x_j in coords[args]:\n",
    "        ax.plot([x_i[0], x_j[0]], [x_i[1], x_j[1]], c='tab:blue')\n",
    "\n",
    "plt.show()"
   ]
  },
  {
   "cell_type": "code",
   "execution_count": null,
   "id": "9e90951c",
   "metadata": {
    "scrolled": false
   },
   "outputs": [],
   "source": [
    "fig, ax = plt.subplots()\n",
    "\n",
    "G = nx.from_numpy_array(target)\n",
    "pos = dict(enumerate(coords))\n",
    "\n",
    "nx.draw_networkx(G, pos, ax=ax)\n",
    "\n",
    "plt.show()"
   ]
  },
  {
   "cell_type": "markdown",
   "id": "9ed86f20",
   "metadata": {},
   "source": [
    "## Compute class weights\n",
    "\n",
    "Due to the class imbalance, we need to calculate the class weights."
   ]
  },
  {
   "cell_type": "code",
   "execution_count": 6,
   "id": "e66c4a93",
   "metadata": {},
   "outputs": [],
   "source": [
    "targets = np.array([target_edges.cpu().numpy() for _, target_edges in dataset.train])"
   ]
  },
  {
   "cell_type": "code",
   "execution_count": 7,
   "id": "5ec531e3",
   "metadata": {},
   "outputs": [
    {
     "data": {
      "text/plain": [
       "tensor([0.5619, 4.5419])"
      ]
     },
     "execution_count": 7,
     "metadata": {},
     "output_type": "execute_result"
    }
   ],
   "source": [
    "class_labels = targets.flatten()\n",
    "\n",
    "edge_class_weights = compute_class_weight('balanced',\n",
    "                                          classes=np.unique(class_labels),\n",
    "                                          y=class_labels)\n",
    "edge_class_weights = torch.tensor(edge_class_weights, dtype=torch.float)\n",
    "\n",
    "edge_class_weights"
   ]
  },
  {
   "cell_type": "markdown",
   "id": "b7aed5e1",
   "metadata": {},
   "source": [
    "## The Model"
   ]
  },
  {
   "cell_type": "code",
   "execution_count": 8,
   "id": "4347cb56",
   "metadata": {},
   "outputs": [
    {
     "name": "stdout",
     "output_type": "stream",
     "text": [
      "Device cpu\n"
     ]
    }
   ],
   "source": [
    "device = get_device()\n",
    "print(\"Device\", device)"
   ]
  },
  {
   "cell_type": "code",
   "execution_count": 9,
   "id": "4a776212",
   "metadata": {},
   "outputs": [],
   "source": [
    "config = load_config(num_gcn_layers=5, hidden_dim=16, node_features=3)\n",
    "config.dropout = None"
   ]
  },
  {
   "cell_type": "code",
   "execution_count": 10,
   "id": "27706ed0",
   "metadata": {},
   "outputs": [],
   "source": [
    "LEARNING_RATE = 0.001\n",
    "\n",
    "model = GraphNet(config).to(device)\n",
    "optimizer = torch.optim.Adam(model.parameters(), lr=LEARNING_RATE)\n",
    "criterion = nn.CrossEntropyLoss(edge_class_weights)"
   ]
  },
  {
   "cell_type": "code",
   "execution_count": null,
   "id": "24edf849",
   "metadata": {},
   "outputs": [],
   "source": [
    "# tensorboard\n",
    "# writer = SummaryWriter()"
   ]
  },
  {
   "cell_type": "code",
   "execution_count": null,
   "id": "b8bc067b",
   "metadata": {},
   "outputs": [],
   "source": [
    "if LOAD_CHECKPOINT:\n",
    "    print(\"Loading from checkpoint\")\n",
    "    checkpoint = load_checkpoint(\"model_20_dropout.pt\")\n",
    "\n",
    "    config = checkpoint['config']\n",
    "    edge_class_weights = checkpoint['class_weights']\n",
    "    model.load_state_dict(checkpoint['model_state_dict'])\n",
    "    optimizer.load_state_dict(checkpoint['optimizer_state_dict'])"
   ]
  },
  {
   "cell_type": "markdown",
   "id": "ca258e29",
   "metadata": {},
   "source": [
    "## Test Forward Pass"
   ]
  },
  {
   "cell_type": "code",
   "execution_count": 12,
   "id": "f128d4e9",
   "metadata": {},
   "outputs": [
    {
     "data": {
      "text/plain": [
       "dict_keys(['node_features', 'dist_matrix', 'edge_feat_matrix'])"
      ]
     },
     "execution_count": 12,
     "metadata": {},
     "output_type": "execute_result"
    }
   ],
   "source": [
    "dataset.train[0][0].keys()"
   ]
  },
  {
   "cell_type": "code",
   "execution_count": 14,
   "id": "84b13064",
   "metadata": {},
   "outputs": [
    {
     "data": {
      "text/plain": [
       "torch.Size([64, 20, 20, 2])"
      ]
     },
     "execution_count": 14,
     "metadata": {},
     "output_type": "execute_result"
    }
   ],
   "source": [
    "batch_features, batch_target = get_batch(train_dataloader)\n",
    "\n",
    "y_pred = model.forward(batch_features[\"node_features\"],\n",
    "                       batch_features[\"dist_matrix\"], \n",
    "                       batch_features[\"edge_feat_matrix\"])\n",
    "\n",
    "y_pred.shape"
   ]
  },
  {
   "cell_type": "markdown",
   "id": "42333302",
   "metadata": {},
   "source": [
    "## Define metrics"
   ]
  },
  {
   "cell_type": "code",
   "execution_count": 15,
   "id": "96ec076e",
   "metadata": {},
   "outputs": [],
   "source": [
    "from sklearn.metrics import accuracy_score, \\\n",
    "balanced_accuracy_score, precision_recall_fscore_support, precision_recall_curve\n",
    "\n",
    "def get_metrics(targets, predictions):\n",
    "    # Batch accuracy\n",
    "    acc = accuracy_score(targets.flatten(), predictions.flatten())\n",
    "\n",
    "    # Balanced accuracy\n",
    "    bal_acc = balanced_accuracy_score(targets.flatten(), predictions.flatten(), adjusted=True)\n",
    "\n",
    "    # Precision and Recall\n",
    "    precision, recall, f1_score, _ = precision_recall_fscore_support(targets.flatten(),\n",
    "                                                                     predictions.flatten(),\n",
    "                                                                     average='binary')\n",
    "    return acc, bal_acc, precision, recall, f1_score"
   ]
  },
  {
   "cell_type": "markdown",
   "id": "d29093f8",
   "metadata": {},
   "source": [
    "## Validation loop"
   ]
  },
  {
   "cell_type": "code",
   "execution_count": 16,
   "id": "ea1009ac",
   "metadata": {},
   "outputs": [],
   "source": [
    "def eval_model(batch_node_features, batch_dist_matrix, batch_edge_features):\n",
    "    model.eval()\n",
    "\n",
    "    with torch.no_grad():\n",
    "        preds = model(batch_node_features, batch_dist_matrix, batch_edge_features)\n",
    "\n",
    "    return preds\n",
    "\n",
    "\n",
    "def validate(dl):\n",
    "    targets = []\n",
    "    predictions = []\n",
    "    \n",
    "    for batch_features, batch_targets in dl:\n",
    "        batch_node_features = batch_features[\"node_features\"].to(device)\n",
    "        batch_dist_matrix = batch_features[\"dist_matrix\"].to(device)\n",
    "        batch_edge_features = batch_features[\"edge_feat_matrix\"].to(device)\n",
    "\n",
    "        batch_targets = batch_targets.cpu().numpy()\n",
    "    \n",
    "        y_preds = eval_model(batch_node_features, batch_dist_matrix, batch_edge_features)\n",
    "        y_preds = F.softmax(y_preds, dim=3)\n",
    "        y_preds = y_preds.argmax(dim=3)\n",
    "        y_preds = y_preds.cpu().numpy()\n",
    "        \n",
    "        targets.append(batch_targets)\n",
    "        predictions.append(y_preds)\n",
    "        \n",
    "    targets = np.concatenate(targets)\n",
    "    predictions = np.concatenate(predictions)\n",
    "        \n",
    "    return targets, predictions"
   ]
  },
  {
   "cell_type": "markdown",
   "id": "9e8e3f97",
   "metadata": {},
   "source": [
    "## Training Loop"
   ]
  },
  {
   "cell_type": "code",
   "execution_count": 18,
   "id": "725e0daf",
   "metadata": {},
   "outputs": [],
   "source": [
    "def get_loss(preds, targets):\n",
    "    preds_perm = preds.permute(0, 3, 1, 2)\n",
    "    \n",
    "    return criterion(preds_perm, targets)\n",
    "\n",
    "def train_one_epoch(batch_node_features, batch_dist_matrix, batch_edge_features, batch_targets):\n",
    "    model.train()\n",
    "    optimizer.zero_grad()\n",
    "    \n",
    "    preds = model(batch_node_features, batch_dist_matrix, batch_edge_features)\n",
    "    loss = get_loss(preds, batch_targets)\n",
    "    loss.backward()\n",
    "    \n",
    "    optimizer.step()\n",
    "\n",
    "    return loss\n",
    "\n",
    "def train(num_epochs, dataloader):\n",
    "    epoch_losses = []\n",
    "    epoch_metrics = []\n",
    "    \n",
    "    for epoch in range(num_epochs):\n",
    "        running_loss = 0\n",
    "    \n",
    "        for minibatch_idx, (batch_features, batch_targets) in enumerate(dataloader):\n",
    "            batch_node_features = batch_features[\"node_features\"].to(device)\n",
    "            batch_dist_matrix = batch_features[\"dist_matrix\"].to(device)\n",
    "            batch_edge_features = batch_features[\"edge_feat_matrix\"].to(device)\n",
    "            batch_targets = batch_targets.to(device)\n",
    "            \n",
    "            loss = train_one_epoch(batch_node_features,\n",
    "                                   batch_dist_matrix,\n",
    "                                   batch_edge_features,\n",
    "                                   batch_targets)\n",
    "            \n",
    "            running_loss += loss.item()\n",
    "\n",
    "        # Losses\n",
    "        epoch_loss = running_loss / len(dataloader)\n",
    "        epoch_losses.append(epoch_loss)\n",
    "        writer.add_scalar(\"Loss/train\", epoch_loss, epoch)\n",
    "\n",
    "        print(f'Epoch: {epoch:02d}, Loss: {epoch_loss:.4f}')\n",
    "        \n",
    "        # Metrics on test dataset\n",
    "        targets, predictions = validate(test_dataloader)\n",
    "        metrics = get_metrics(targets, predictions)\n",
    "        \n",
    "        acc, bal_acc, precision, recall, f1_score = metrics\n",
    "        epoch_metrics.append(metrics)\n",
    "        writer.add_scalar(\"Metrics/accuracy\", acc, epoch)\n",
    "        writer.add_scalar(\"Metrics/bal. accuracy\", bal_acc, epoch)\n",
    "        writer.add_scalar(\"Metrics/precision\", precision, epoch)\n",
    "        writer.add_scalar(\"Metrics/recall\", recall, epoch)\n",
    "        writer.add_scalar(\"Metrics/f1 score\", f1_score, epoch)"
   ]
  },
  {
   "cell_type": "code",
   "execution_count": 19,
   "id": "7c7f8673",
   "metadata": {},
   "outputs": [
    {
     "name": "stdout",
     "output_type": "stream",
     "text": [
      "Current config: {'hidden_dim': 16, 'node_features': 3, 'edge_weight_features': 1, 'edge_values_features': 3, 'num_gcn_layers': 5, 'num_mlp_layers': 3}\n",
      "\n"
     ]
    }
   ],
   "source": [
    "print(\"Current config:\", config, end='\\n\\n')"
   ]
  },
  {
   "cell_type": "code",
   "execution_count": null,
   "id": "483b5b2d",
   "metadata": {
    "scrolled": false
   },
   "outputs": [
    {
     "name": "stdout",
     "output_type": "stream",
     "text": [
      "Training with config: {'hidden_dim': 16, 'node_features': 3, 'edge_weight_features': 1, 'edge_values_features': 3, 'num_gcn_layers': 5, 'num_mlp_layers': 3, 'enable_dropout': True}\n",
      "\n",
      "Epoch: 00, Loss: 0.3878\n",
      "Epoch: 01, Loss: 0.3119\n",
      "Epoch: 02, Loss: 0.2910\n",
      "Epoch: 03, Loss: 0.2812\n",
      "Epoch: 04, Loss: 0.2757\n",
      "Epoch: 05, Loss: 0.2716\n",
      "Epoch: 06, Loss: 0.2675\n",
      "Epoch: 07, Loss: 0.2631\n",
      "Epoch: 08, Loss: 0.2598\n",
      "Epoch: 09, Loss: 0.2576\n"
     ]
    }
   ],
   "source": [
    "train(20, train_dataloader)\n",
    "\n",
    "writer.flush()"
   ]
  },
  {
   "cell_type": "code",
   "execution_count": 27,
   "id": "8200c879",
   "metadata": {},
   "outputs": [],
   "source": [
    "writer.close()"
   ]
  },
  {
   "cell_type": "markdown",
   "id": "4bd61747",
   "metadata": {},
   "source": [
    "## Final metrics"
   ]
  },
  {
   "cell_type": "code",
   "execution_count": 20,
   "id": "9df16ffe",
   "metadata": {},
   "outputs": [
    {
     "name": "stdout",
     "output_type": "stream",
     "text": [
      "Accuracy: 0.88805\n",
      "Balanced Accuracy: 0.7989205109900475\n",
      "Precision: 0.4955703211517165\n",
      "Recall: 0.9140944167044939\n",
      "F1 score 0.6427032633846645\n"
     ]
    }
   ],
   "source": [
    "targets, predictions = validate(test_dataloader)\n",
    "acc, bal_acc, precision, recall, f1_score = get_metrics(targets, predictions)\n",
    "\n",
    "print(\"Accuracy:\", acc)\n",
    "print(\"Balanced Accuracy:\", bal_acc)\n",
    "print(\"Precision:\", precision)\n",
    "print(\"Recall:\", recall)\n",
    "print(\"F1 score\", f1_score)"
   ]
  },
  {
   "cell_type": "markdown",
   "id": "692008db",
   "metadata": {},
   "source": [
    "## Plot the results"
   ]
  },
  {
   "cell_type": "code",
   "execution_count": 65,
   "id": "42585a60",
   "metadata": {},
   "outputs": [],
   "source": [
    "test_features, test_targets = get_batch(test_dataloader)\n",
    "coords = test_features[0]"
   ]
  },
  {
   "cell_type": "code",
   "execution_count": 66,
   "id": "6b01eea9",
   "metadata": {},
   "outputs": [],
   "source": [
    "pred = eval_model(*test_features)\n",
    "pred = F.softmax(pred, dim=3)\n",
    "pred_prob = pred[..., 1].cpu().numpy()\n",
    "pred_prob_argmax = pred.argmax(dim=3).cpu().numpy()"
   ]
  },
  {
   "cell_type": "code",
   "execution_count": 71,
   "id": "939b91fd",
   "metadata": {},
   "outputs": [],
   "source": [
    "from utils.data import store_pickle\n",
    "\n",
    "obj = test_features, test_targets, pred\n",
    "\n",
    "store_pickle(obj, 'preds.pkl')"
   ]
  },
  {
   "cell_type": "code",
   "execution_count": 51,
   "id": "b6aac6c0",
   "metadata": {},
   "outputs": [],
   "source": [
    "def adj_matrix_to_list(adj_matrix):\n",
    "    adj_list = []\n",
    "    \n",
    "    for i, row in enumerate(adj_matrix):\n",
    "        dest = np.argwhere(row>0).flatten()\n",
    "        src = np.full(dest.size, i)\n",
    "        \n",
    "        adj_list.extend(zip(src, dest))\n",
    "    \n",
    "    return adj_list\n",
    "\n",
    "def plot_edge_predictions(coords, pred, target, ax):\n",
    "    G = nx.from_numpy_array(target)\n",
    "    pos = dict(enumerate(coords))\n",
    "    \n",
    "    pred_edge_list = adj_matrix_to_list(pred)\n",
    "\n",
    "    nx.draw_networkx(G, pos, ax=ax)\n",
    "    nx.draw_networkx_edges(G, pos, edgelist=pred_edge_list, edge_color='red', alpha=0.1, width=3, ax=ax)\n",
    "    \n",
    "def get_over_threshold(preds, threshold):\n",
    "    pred = np.copy(preds)\n",
    "    pred[preds >= threshold] = 1\n",
    "    pred[preds < threshold] = 0\n",
    "    \n",
    "    return pred"
   ]
  },
  {
   "cell_type": "code",
   "execution_count": 56,
   "id": "62e23cfc",
   "metadata": {},
   "outputs": [],
   "source": [
    "p = get_over_threshold(pred_prob, 0.75)"
   ]
  },
  {
   "cell_type": "code",
   "execution_count": 57,
   "id": "1f48c0e3",
   "metadata": {
    "scrolled": false
   },
   "outputs": [
    {
     "data": {
      "image/png": "[encoded data removed]",
      "text/plain": [
       "<Figure size 640x480 with 1 Axes>"
      ]
     },
     "metadata": {},
     "output_type": "display_data"
    }
   ],
   "source": [
    "fig, ax = plt.subplots()\n",
    "i = 0\n",
    "plot_edge_predictions(coords[i].cpu().numpy(), p[i], test_targets[i].cpu().numpy(), ax=ax)"
   ]
  },
  {
   "cell_type": "code",
   "execution_count": 60,
   "id": "730242fb",
   "metadata": {},
   "outputs": [],
   "source": [
    "from utils.beam_search import Beamsearch\n",
    "\n",
    "bs = Beamsearch(beam_width=100, trans_probs=torch.tensor(pred_prob), num_vehicles=1)\n",
    "bs.search()"
   ]
  },
  {
   "cell_type": "code",
   "execution_count": 61,
   "id": "7e01cd05",
   "metadata": {},
   "outputs": [],
   "source": [
    "bs.sanity_check()"
   ]
  },
  {
   "cell_type": "code",
   "execution_count": 62,
   "id": "a65691a8",
   "metadata": {},
   "outputs": [],
   "source": [
    "beams = bs.get_beam(0)"
   ]
  },
  {
   "cell_type": "code",
   "execution_count": 63,
   "id": "0568f1cb",
   "metadata": {},
   "outputs": [
    {
     "data": {
      "text/plain": [
       "tensor([ 0,  4, 19,  2,  1, 18, 14, 16, 15, 11, 12,  7, 10,  9,  8, 17,  3, 13,\n",
       "         5,  6])"
      ]
     },
     "execution_count": 63,
     "metadata": {},
     "output_type": "execute_result"
    }
   ],
   "source": [
    "beams[0]"
   ]
  },
  {
   "cell_type": "code",
   "execution_count": 64,
   "id": "3bd15a5e",
   "metadata": {},
   "outputs": [
    {
     "data": {
      "text/plain": [
       "tensor([ 0, 10,  9,  7, 12, 11, 15, 14, 18,  1,  2, 19,  4,  8, 17,  3,  5,  6,\n",
       "        13, 16])"
      ]
     },
     "execution_count": 64,
     "metadata": {},
     "output_type": "execute_result"
    }
   ],
   "source": [
    "bs.get_beam(99)[0]"
   ]
  },
  {
   "cell_type": "code",
   "execution_count": 104,
   "id": "b8023205",
   "metadata": {},
   "outputs": [
    {
     "data": {
      "image/png": "[encoded data removed]",
      "text/plain": [
       "<Figure size 1200x600 with 4 Axes>"
      ]
     },
     "metadata": {},
     "output_type": "display_data"
    }
   ],
   "source": [
    "fig, axes = plt.subplots(1, 2, figsize=(12, 6))\n",
    "\n",
    "ConfusionMatrixDisplay.from_predictions(targets.flatten(), preds.flatten(), normalize='pred', ax=axes[0])\n",
    "ConfusionMatrixDisplay.from_predictions(targets.flatten(), preds.flatten(), normalize='all', ax=axes[1])\n",
    "axes[0].set_title(\"Normalised over predictions (columns)\")\n",
    "axes[1].set_title(\"Normalised over all\")\n",
    "\n",
    "plt.show()"
   ]
  },
  {
   "cell_type": "code",
   "execution_count": 105,
   "id": "a3743dac",
   "metadata": {},
   "outputs": [
    {
     "data": {
      "image/png": "[encoded data removed]",
      "text/plain": [
       "<Figure size 640x480 with 1 Axes>"
      ]
     },
     "metadata": {},
     "output_type": "display_data"
    }
   ],
   "source": [
    "RocCurveDisplay.from_predictions(targets.flatten(), preds.flatten())\n",
    "\n",
    "plt.show()"
   ]
  },
  {
   "cell_type": "code",
   "execution_count": null,
   "id": "dd8583a5",
   "metadata": {},
   "outputs": [],
   "source": []
  }
 ],
 "metadata": {
  "kernelspec": {
   "display_name": "Python 3 (ipykernel)",
   "language": "python",
   "name": "python3"
  },
  "language_info": {
   "codemirror_mode": {
    "name": "ipython",
    "version": 3
   },
   "file_extension": ".py",
   "mimetype": "text/x-python",
   "name": "python",
   "nbconvert_exporter": "python",
   "pygments_lexer": "ipython3",
   "version": "3.11.3"
  }
 },
 "nbformat": 4,
 "nbformat_minor": 5
}
