{
 "cells": [
  {
   "cell_type": "code",
   "execution_count": 1,
   "id": "4cf52f5d",
   "metadata": {},
   "outputs": [],
   "source": [
    "import torch\n",
    "import numpy as np\n",
    "import networkx as nx\n",
    "import matplotlib.pyplot as plt\n",
    "import seaborn as sns\n",
    "\n",
    "from utils.data import load_pickle\n",
    "from utils.beam_search import BeamSearch"
   ]
  },
  {
   "cell_type": "code",
   "execution_count": 2,
   "id": "93c98810",
   "metadata": {},
   "outputs": [],
   "source": [
    "def adj_matrix_to_list(adj_matrix):\n",
    "    adj_list = []\n",
    "    \n",
    "    for i, row in enumerate(adj_matrix):\n",
    "        dest = np.argwhere(row>0).flatten()\n",
    "        src = np.full(dest.size, i)\n",
    "        \n",
    "        adj_list.extend(zip(src, dest))\n",
    "    \n",
    "    return adj_list\n",
    "\n",
    "def plot_edge_predictions(coords, pred, target):\n",
    "    G = nx.from_numpy_array(target)\n",
    "    pos = dict(enumerate(coords))\n",
    "    \n",
    "    pred_edge_list = adj_matrix_to_list(pred)\n",
    "\n",
    "    nx.draw_networkx(G, pos)\n",
    "    nx.draw_networkx_edges(G, pos, edgelist=pred_edge_list, edge_color='red', alpha=0.1, width=3)\n",
    "    \n",
    "    plt.show()"
   ]
  },
  {
   "cell_type": "code",
   "execution_count": 3,
   "id": "2dec5142",
   "metadata": {},
   "outputs": [],
   "source": [
    "features, targets, preds = load_pickle(\"data/preds.pkl\")"
   ]
  },
  {
   "cell_type": "code",
   "execution_count": 4,
   "id": "bdfd1960",
   "metadata": {},
   "outputs": [
    {
     "data": {
      "text/plain": [
       "torch.Size([64, 20, 20])"
      ]
     },
     "execution_count": 4,
     "metadata": {},
     "output_type": "execute_result"
    }
   ],
   "source": [
    "y_preds = preds[..., 1]\n",
    "y_preds.shape"
   ]
  },
  {
   "cell_type": "code",
   "execution_count": 5,
   "id": "c7494c0e",
   "metadata": {},
   "outputs": [],
   "source": [
    "coords, demands, dist_mat = features[0], features[1], features[2]"
   ]
  },
  {
   "cell_type": "code",
   "execution_count": 6,
   "id": "0f1b2186",
   "metadata": {},
   "outputs": [],
   "source": [
    "beam_width = 1024\n",
    "num_vehicles = 3"
   ]
  },
  {
   "cell_type": "code",
   "execution_count": 88,
   "id": "43eac4ef",
   "metadata": {
    "scrolled": true
   },
   "outputs": [],
   "source": [
    "def beam_search_most_probable_tour(y_preds, beam_width, num_vehicles):\n",
    "    bs = BeamSearch(y_preds, beam_width=beam_width, num_vehicles=num_vehicles)\n",
    "    bs.search()\n",
    "    \n",
    "    # get most probable beams\n",
    "    beams = bs.get_beam(0)\n",
    "    \n",
    "    return beams\n",
    "\n",
    "def beam_search_shortest_valid_tour(y_preds, dist_mats, demands, max_capacity,\n",
    "                                    beam_width, num_vehicles):\n",
    "    bs = BeamSearch(y_preds, beam_width=beam_width, num_vehicles=num_vehicles)\n",
    "    bs.search()\n",
    "    \n",
    "    shortest_tour_length = np.full(y_preds.shape[0], np.inf)\n",
    "    shortest_valid_tours = {}\n",
    "    \n",
    "    # TODO: optimize this function - it takes too long to run\n",
    "    for b in range(beam_width):\n",
    "        beams = bs.get_beam(b)\n",
    "        \n",
    "        for i, beam in enumerate(beams):\n",
    "            tour_length = tour_length_from_tour_list(beam, dist_mats[i])\n",
    "            is_valid = is_valid_capacity_tour(beam, demands[i], max_capacity)\n",
    "            \n",
    "            if tour_length < shortest_tour_length[i] and is_valid:\n",
    "                shortest_tour_length[i] = tour_length\n",
    "                shortest_valid_tours[i] = beam\n",
    "                \n",
    "                \n",
    "    return shortest_valid_tours"
   ]
  },
  {
   "cell_type": "code",
   "execution_count": 87,
   "id": "44552e0d",
   "metadata": {},
   "outputs": [],
   "source": [
    "tours = beam_search_most_probable_tour(y_preds, beam_width, num_vehicles)"
   ]
  },
  {
   "cell_type": "code",
   "execution_count": 90,
   "id": "3263dc89",
   "metadata": {},
   "outputs": [
    {
     "name": "stdout",
     "output_type": "stream",
     "text": [
      "CPU times: user 29.8 s, sys: 236 ms, total: 30 s\n",
      "Wall time: 28.8 s\n"
     ]
    }
   ],
   "source": [
    "%%time\n",
    "shortest_valid = beam_search_shortest_valid_tour(y_preds, dist_mat, demands, 40, beam_width, num_vehicles)"
   ]
  },
  {
   "cell_type": "code",
   "execution_count": 91,
   "id": "54f35588",
   "metadata": {},
   "outputs": [
    {
     "data": {
      "text/plain": [
       "{19: tensor([ 0,  3, 13,  9, 12,  7,  0, 19, 17, 11, 18,  1,  2,  8,  0,  6, 10, 15,\n",
       "          5, 14, 16,  4]),\n",
       " 26: tensor([ 0, 17,  6,  8,  4,  2,  3,  0, 12, 16,  9, 14,  0, 10, 15, 11,  7, 19,\n",
       "         13,  1, 18,  5]),\n",
       " 48: tensor([ 0,  2,  4,  1, 15, 12, 14,  0,  9, 11,  5,  3,  6, 17, 18, 13,  0,  8,\n",
       "         16, 19,  7, 10]),\n",
       " 50: tensor([ 0, 13,  4,  1,  6, 14, 12, 19,  0, 18,  3,  7, 10, 17, 15,  0,  9,  5,\n",
       "          8,  2, 16, 11]),\n",
       " 49: tensor([ 0, 10,  9,  8,  0, 17,  3, 13,  5,  6,  1,  2,  0, 19,  4, 18, 14, 16,\n",
       "         15, 11, 12,  7]),\n",
       " 16: tensor([ 0,  3, 15,  4,  5,  9,  1,  6,  0,  2, 19, 18, 16, 11, 17,  0,  8, 14,\n",
       "         10,  7, 12, 13]),\n",
       " 3: tensor([ 0, 16,  0, 12,  2, 13, 10,  7, 15,  9,  1,  3,  4,  0,  6,  5, 17, 14,\n",
       "         11, 18,  8, 19]),\n",
       " 9: tensor([ 0, 13, 10, 17, 14, 12, 18,  0, 15, 19,  3,  1,  5,  4, 11,  8,  0,  6,\n",
       "          9,  7, 16,  2]),\n",
       " 7: tensor([ 0, 12,  2, 18,  0,  8, 15,  3, 19,  7, 11,  5,  1,  0, 14,  4,  6, 17,\n",
       "         10,  9, 16, 13]),\n",
       " 27: tensor([ 0,  5,  9, 12,  4,  2, 10,  0,  3, 15, 13, 17, 14, 16,  1,  0, 19,  6,\n",
       "         11,  8,  7, 18]),\n",
       " 59: tensor([ 0,  2,  9, 10,  1,  0,  7, 14, 19,  3,  5, 13,  8,  0, 12,  6, 18,  4,\n",
       "         17, 15, 11, 16]),\n",
       " 63: tensor([ 0,  3, 10, 12, 14, 13, 16, 19,  0,  6, 15,  7,  4, 18,  2,  0, 17,  1,\n",
       "          9,  5, 11,  8]),\n",
       " 1: tensor([ 0,  9,  8,  6,  1, 12, 19, 16,  0, 15,  4,  3,  7, 18, 17, 11, 13,  0,\n",
       "         14,  5,  2, 10]),\n",
       " 17: tensor([ 0,  1,  4, 18, 12,  6,  3,  8,  0,  2, 14, 11, 15, 16,  0,  7, 17, 10,\n",
       "          5,  9, 13, 19]),\n",
       " 52: tensor([ 0,  5, 17, 12, 18,  0,  7,  9,  3, 14,  6,  0,  2, 13, 19,  1, 16,  4,\n",
       "         15, 10, 11,  8]),\n",
       " 42: tensor([ 0,  5,  1, 14,  3, 16, 12,  0, 10,  4, 15, 19,  7, 18,  6,  0, 17,  9,\n",
       "          8, 11, 13,  2]),\n",
       " 24: tensor([ 0,  5,  7, 18,  9, 11, 19, 14,  0, 13, 15, 17,  3, 12,  8,  6,  0,  1,\n",
       "         10, 16,  2,  4]),\n",
       " 57: tensor([ 0,  6, 18, 15, 10, 17, 14,  8, 16,  9,  0, 12, 13,  1,  7,  3,  5, 19,\n",
       "          0,  4,  2, 11]),\n",
       " 34: tensor([ 0, 15, 19, 17, 13,  6, 14,  0,  2,  9,  8, 10, 18,  1,  4,  0,  5,  7,\n",
       "         12,  3, 16, 11]),\n",
       " 36: tensor([ 0,  9,  2, 17,  7, 18, 11,  0,  3, 16, 14,  5, 12, 15,  0,  8,  1,  6,\n",
       "         10, 19, 13,  4]),\n",
       " 51: tensor([ 0,  8, 10,  3, 12,  2, 17, 18,  0,  9, 14, 19,  6,  5, 16,  0,  1,  4,\n",
       "         11,  7, 13, 15]),\n",
       " 6: tensor([ 0, 16, 12, 17, 10,  2,  1,  0,  8, 14,  6,  9, 13, 18, 15,  0,  5,  7,\n",
       "         11,  4,  3, 19])}"
      ]
     },
     "execution_count": 91,
     "metadata": {},
     "output_type": "execute_result"
    }
   ],
   "source": [
    "shortest_valid"
   ]
  },
  {
   "cell_type": "code",
   "execution_count": 55,
   "id": "b727a7ae",
   "metadata": {},
   "outputs": [],
   "source": [
    "def tour_length_from_adj_matrix(adj_mat, dist_mat):\n",
    "    return np.sum(adj_mat * dist_mat, axis=-1).sum(axis=-1) / 2\n",
    "\n",
    "def tour_length_from_tour_list(tour, dist_mat):\n",
    "    total = 0\n",
    "    \n",
    "    for i in range(len(tour)):\n",
    "        j = (i + 1) % len(tour)\n",
    "        xi = tour[i]\n",
    "        xj = tour[j]\n",
    "        \n",
    "        total += dist_mat[xi][xj]\n",
    "        \n",
    "    return total\n",
    "\n",
    "def is_valid_capacity_tour(tour, demand, max_capacity):\n",
    "    running_total = 0\n",
    "    for idx in tour:\n",
    "        if idx == 0:\n",
    "            running_total = 0\n",
    "        else:\n",
    "            running_total += demand[idx]\n",
    "        \n",
    "        if running_total > max_capacity:\n",
    "            return False\n",
    "    \n",
    "    return True\n",
    "\n",
    "def mean_tour_length(tours, dist_mats):\n",
    "    total = 0\n",
    "    \n",
    "    for i, tour in enumerate(tours):\n",
    "        total += tour_length_from_tour_list(tour, dist_mats[i])\n",
    "        \n",
    "    return total / len(tours)\n",
    "\n",
    "def get_valid_tours(tours, demands, max_capacity):\n",
    "    valid_count = 0\n",
    "    valid_tour_idx = []\n",
    "    \n",
    "    for i, tour in enumerate(tours):\n",
    "        is_valid = is_valid_capacity_tour(tour, demands[i], max_capacity)\n",
    "        if is_valid:\n",
    "            valid_count += 1\n",
    "            valid_tour_idx.append(i)\n",
    "            \n",
    "    return valid_count, valid_tour_idx\n",
    "\n",
    "def optimality_gap(pred_tour_length, actual_tour_length):\n",
    "    return pred_tour_length / actual_tour_length - 1"
   ]
  },
  {
   "cell_type": "code",
   "execution_count": 26,
   "id": "0e0efa12",
   "metadata": {},
   "outputs": [
    {
     "data": {
      "text/plain": [
       "4.513701047668292"
      ]
     },
     "execution_count": 26,
     "metadata": {},
     "output_type": "execute_result"
    }
   ],
   "source": [
    "mean_tour_length(tours.numpy(), dist_mat.numpy())"
   ]
  },
  {
   "cell_type": "code",
   "execution_count": 72,
   "id": "9f03921c",
   "metadata": {
    "scrolled": true
   },
   "outputs": [
    {
     "data": {
      "text/plain": [
       "(4, [19, 26, 48, 50])"
      ]
     },
     "execution_count": 72,
     "metadata": {},
     "output_type": "execute_result"
    }
   ],
   "source": [
    "get_valid_tours(tours.numpy(), demands.numpy(), 40)"
   ]
  },
  {
   "cell_type": "code",
   "execution_count": 73,
   "id": "490f889b",
   "metadata": {},
   "outputs": [
    {
     "data": {
      "text/plain": [
       "4.312058657407761"
      ]
     },
     "execution_count": 73,
     "metadata": {},
     "output_type": "execute_result"
    }
   ],
   "source": [
    "tour_length_from_adj_matrix(targets[10].numpy(), dist_mat[10].numpy())"
   ]
  },
  {
   "cell_type": "code",
   "execution_count": 74,
   "id": "bcaf1e55",
   "metadata": {},
   "outputs": [
    {
     "data": {
      "text/plain": [
       "3.859757337719202"
      ]
     },
     "execution_count": 74,
     "metadata": {},
     "output_type": "execute_result"
    }
   ],
   "source": [
    "tour_length_from_tour_list(tours[10].cpu().numpy(), dist_mat[10].cpu().numpy())"
   ]
  },
  {
   "cell_type": "code",
   "execution_count": 75,
   "id": "ee945b2a",
   "metadata": {},
   "outputs": [
    {
     "data": {
      "text/plain": [
       "False"
      ]
     },
     "execution_count": 75,
     "metadata": {},
     "output_type": "execute_result"
    }
   ],
   "source": [
    "is_valid_capacity_tour(tours[10].numpy(), demands[10].numpy(), 40)"
   ]
  },
  {
   "cell_type": "code",
   "execution_count": 43,
   "id": "92e70b26",
   "metadata": {},
   "outputs": [
    {
     "data": {
      "image/png": "[encoded data removed]",
      "text/plain": [
       "<Figure size 640x480 with 1 Axes>"
      ]
     },
     "metadata": {},
     "output_type": "display_data"
    }
   ],
   "source": [
    "idx = 10\n",
    "\n",
    "coords_np = coords.cpu().numpy()\n",
    "preds_np = preds.argmax(dim=3).cpu().numpy()\n",
    "targets_np = targets.cpu().numpy()\n",
    "\n",
    "plot_edge_predictions(coords_np[idx], preds_np[idx], targets_np[idx])"
   ]
  }
 ],
 "metadata": {
  "kernelspec": {
   "display_name": "Python 3 (ipykernel)",
   "language": "python",
   "name": "python3"
  },
  "language_info": {
   "codemirror_mode": {
    "name": "ipython",
    "version": 3
   },
   "file_extension": ".py",
   "mimetype": "text/x-python",
   "name": "python",
   "nbconvert_exporter": "python",
   "pygments_lexer": "ipython3",
   "version": "3.11.3"
  }
 },
 "nbformat": 4,
 "nbformat_minor": 5
}
