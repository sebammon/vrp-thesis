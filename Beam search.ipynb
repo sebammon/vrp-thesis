{
 "cells": [
  {
   "cell_type": "code",
   "execution_count": 1,
   "id": "4cf52f5d",
   "metadata": {},
   "outputs": [],
   "source": [
    "import torch\n",
    "import numpy as np"
   ]
  },
  {
   "cell_type": "code",
   "execution_count": 56,
   "id": "b185ec54",
   "metadata": {},
   "outputs": [],
   "source": [
    "beam_width = 2\n",
    "batch_size = 1\n",
    "num_nodes = 5"
   ]
  },
  {
   "cell_type": "code",
   "execution_count": 57,
   "id": "5b1c04db",
   "metadata": {},
   "outputs": [],
   "source": [
    "torch.manual_seed(42)\n",
    "\n",
    "y = torch.randn(1, 5, 5, 2).type(torch.float)\n",
    "y_pred = torch.nn.functional.softmax(y, dim=3)\n",
    "y_pred = y_pred[:, :, :, 1]"
   ]
  },
  {
   "cell_type": "code",
   "execution_count": 75,
   "id": "3a46550c",
   "metadata": {},
   "outputs": [],
   "source": [
    "y_pred = torch.zeros(1, 5, 5).type(torch.float)\n",
    "\n",
    "for i in range(num_nodes):\n",
    "    j = (i + 1) % num_nodes\n",
    "    k = (i + 2) % num_nodes\n",
    "    y_pred[0][i][i] = 0\n",
    "    y_pred[0][i][j] = 0.8\n",
    "    y_pred[0][i][k] = 0.2"
   ]
  },
  {
   "cell_type": "code",
   "execution_count": 213,
   "id": "718f32f4",
   "metadata": {},
   "outputs": [],
   "source": [
    "class Beamsearch:\n",
    "    \"\"\"\n",
    "    Beam search procedure class.\n",
    "\n",
    "    References:\n",
    "        [1]: https://github.com/OpenNMT/OpenNMT-py/blob/master/onmt/translate/beam.py\n",
    "        [2]: https://github.com/alexnowakvila/QAP_pt/blob/master/src/tsp/beam_search.py\n",
    "        [3]: https://github.com/chaitjo/graph-convnet-tsp/blob/master/utils/beamsearch.py\n",
    "    \"\"\"\n",
    "    def __init__(self, beam_width, trans_probs, random_start=False):\n",
    "        # all transition probabilities\n",
    "        self.trans_probs = trans_probs\n",
    "        self.batch_size = trans_probs.size(0)\n",
    "        self.num_nodes = trans_probs.size(1)\n",
    "        \n",
    "        assert len(trans_probs.shape) == 3, \"transition probabilities need to be 3-dimensional\"\n",
    "        assert trans_probs.size(1) == trans_probs.size(2), \"transition probabilities are not square\"\n",
    "        \n",
    "        # Beamsearch parameters\n",
    "        self.beam_width = beam_width\n",
    "\n",
    "        # tensor data types and device\n",
    "        self.device = None\n",
    "        self.float = torch.float32\n",
    "        self.long = torch.int64\n",
    "        \n",
    "        if random_start == True:\n",
    "            # starting at random nodes\n",
    "            start_nodes = torch.randint(0, num_nodes, (batch_size, beam_size))\n",
    "        else:\n",
    "            # starting at node zero\n",
    "            start_nodes = torch.zeros(batch_size, beam_size)\n",
    "        \n",
    "        self.start_nodes = start_nodes.type(self.long)\n",
    "        \n",
    "        # Mask for constructing valid hypothesis\n",
    "        self.mask = torch.ones(batch_size, beam_size, num_nodes).type(self.float)\n",
    "        self.update_mask(self.start_nodes)  # Mask the starting node of the beam search\n",
    "        \n",
    "        # Score for each translation on the beam\n",
    "        self.scores = torch.zeros(batch_size, beam_size).type(self.float)\n",
    "        self.all_scores = []\n",
    "        \n",
    "        # Backpointers at each time-step\n",
    "        self.parent_pointer  = []\n",
    "        \n",
    "        # Outputs at each time-step\n",
    "        self.next_nodes = [self.start_nodes]\n",
    "\n",
    "    def get_current_nodes(self):\n",
    "        \"\"\"\n",
    "        Get the nodes to expand at the current timestep\n",
    "        \"\"\"\n",
    "        current_nodes = self.next_nodes[-1]\n",
    "        current_nodes = current_nodes.unsqueeze(2).expand(self.batch_size,\n",
    "                                                          self.beam_width, \n",
    "                                                          self.num_nodes)\n",
    "        return current_nodes\n",
    "\n",
    "    def get_parent_pointer(self):\n",
    "        \"\"\"\n",
    "        Get the pointers of the parents\n",
    "        \"\"\"\n",
    "        return self.parent_pointer[-1]\n",
    "\n",
    "    def step(self):\n",
    "        \"\"\"\n",
    "        Transition to the next timestep of the beam search\n",
    "        \"\"\"\n",
    "        current_nodes = self.get_current_nodes()\n",
    "        trans_probs = self.trans_probs.gather(1, current_nodes)\n",
    "        \n",
    "        if len(self.parent_pointer) == 0:\n",
    "            # first transition, only use the starting nodes\n",
    "            beam_prob = trans_probs\n",
    "            beam_prob[:, 1:] = torch.zeros(beam_prob[:, 1:].size()).type(self.float)\n",
    "        else:\n",
    "            # multiply the previous scores (probabilities) with the current ones\n",
    "            expanded_scores = self.scores.unsqueeze(2).expand_as(trans_probs) # b x beam_width x num_nodes\n",
    "            beam_prob = trans_probs * expanded_scores\n",
    "        \n",
    "        # mask out visited nodes\n",
    "        beam_prob = beam_prob * self.mask\n",
    "        \n",
    "        beam_prob = beam_prob.view(beam_prob.size(0), -1) # flatten to (b x beam_width * num_nodes)\n",
    "        \n",
    "        # get k=beam_width best scores and indices\n",
    "        best_scores, best_score_idxs = beam_prob.topk(self.beam_width,\n",
    "                                                      dim=1, largest=True, sorted=True)\n",
    "        \n",
    "        self.scores = best_scores\n",
    "        parent_index = torch.floor_divide(best_score_idxs, self.num_nodes).type(self.long)\n",
    "        \n",
    "        self.parent_pointer.append(parent_index)\n",
    "        \n",
    "        # next nodes\n",
    "        next_node = best_score_idxs - (parent_index * self.num_nodes) # convert flattened indices back\n",
    "        self.next_nodes.append(next_node)\n",
    "        \n",
    "        # keep rows of the promising parents (for next masking)\n",
    "        parent_mask = parent_index.unsqueeze(2).expand_as(self.mask)  # (batch_size, beam_size, num_nodes)\n",
    "        self.mask = self.mask.gather(1, parent_mask)\n",
    "        \n",
    "        # mask next nodes (newly added nodes)\n",
    "        self.update_mask(next_node)\n",
    "\n",
    "    def update_mask(self, new_nodes):\n",
    "        \"\"\"\n",
    "        Sets indicies of new_nodes = 0 in the mask.\n",
    "        \n",
    "        Args:\n",
    "            new_nodes: (batch_size, beam_width) of new node indicies\n",
    "        \"\"\"\n",
    "        index = torch.arange(0, self.num_nodes, dtype=self.long).expand_as(self.mask)\n",
    "        new_nodes = new_nodes.unsqueeze(2).expand_as(self.mask)\n",
    "        \n",
    "        # set the mask = 0 at the new_node_idx positions\n",
    "        update_mask = 1 - torch.eq(index, new_nodes).type(self.float)\n",
    "        \n",
    "        self.mask = self.mask * update_mask\n",
    "\n",
    "    def sort_best(self):\n",
    "        \"\"\"\n",
    "        Sort the beam.\n",
    "        \"\"\"\n",
    "        # TODO: CHECK\n",
    "        return torch.sort(self.scores, 0, True)\n",
    "\n",
    "    def get_best(self):\n",
    "        \"\"\"\n",
    "        Get the score and index of the best hypothesis in the beam.\n",
    "        \"\"\"\n",
    "        # TODO: CHECK\n",
    "        scores, ids = self.sort_best()\n",
    "        \n",
    "        return scores[1], ids[1]\n",
    "\n",
    "    def get_beam(self, beam_idx):\n",
    "        \"\"\"\n",
    "        Construct the beam for the given index\n",
    "\n",
    "        Args:\n",
    "            beam_idx: Index of the beam to construct (0 = best, ..., n = worst)\n",
    "        \"\"\"\n",
    "        # TODO: Fix assertion (with vehicles)\n",
    "        # assert self.num_nodes == len(self.parent_pointers) + 1\n",
    "        \n",
    "        prev_pointer = torch.ones(self.batch_size, 1).type(self.long) * beam_idx\n",
    "        last_node = self.next_nodes[-1].gather(1, prev_pointer)\n",
    "        \n",
    "        path = [last_node]\n",
    "        \n",
    "        for i in range(len(self.parent_pointer) - 1, -1, -1):\n",
    "            prev_pointer = self.parent_pointer[i].gather(1, prev_pointer)\n",
    "            last_node = self.next_nodes[i].gather(1, prev_pointer)\n",
    "            \n",
    "            path.append(last_node)\n",
    "            \n",
    "        path = list(reversed(path))\n",
    "        path = torch.cat(path, dim=-1)\n",
    "        \n",
    "        return path"
   ]
  },
  {
   "cell_type": "code",
   "execution_count": 214,
   "id": "7a6489ea",
   "metadata": {},
   "outputs": [
    {
     "data": {
      "text/plain": [
       "tensor([[[0.3918, 0.0471, 0.1286, 0.1734, 0.9169],\n",
       "         [0.2668, 0.5420, 0.8222, 0.1416, 0.7185],\n",
       "         [0.8625, 0.7068, 0.5043, 0.6735, 0.5679],\n",
       "         [0.7524, 0.6256, 0.6101, 0.8428, 0.5195],\n",
       "         [0.4787, 0.6768, 0.8746, 0.9288, 0.8710]]])"
      ]
     },
     "execution_count": 214,
     "metadata": {},
     "output_type": "execute_result"
    }
   ],
   "source": [
    "y_pred"
   ]
  },
  {
   "cell_type": "code",
   "execution_count": 215,
   "id": "43eac4ef",
   "metadata": {
    "scrolled": false
   },
   "outputs": [],
   "source": [
    "beamsearch = Beamsearch(beam_width, trans_probs=y_pred)\n",
    "bs = beamsearch\n",
    "\n",
    "for step in range(num_nodes - 1):\n",
    "    beamsearch.step()"
   ]
  },
  {
   "cell_type": "code",
   "execution_count": 216,
   "id": "21dbfacd",
   "metadata": {},
   "outputs": [
    {
     "data": {
      "text/plain": [
       "tensor([[0, 4, 2, 3, 1]])"
      ]
     },
     "execution_count": 216,
     "metadata": {},
     "output_type": "execute_result"
    }
   ],
   "source": [
    "shortest_tours = beamsearch.get_beam(0)\n",
    "shortest_tours"
   ]
  },
  {
   "cell_type": "code",
   "execution_count": null,
   "id": "ae843b14",
   "metadata": {},
   "outputs": [],
   "source": []
  }
 ],
 "metadata": {
  "kernelspec": {
   "display_name": "Python 3 (ipykernel)",
   "language": "python",
   "name": "python3"
  },
  "language_info": {
   "codemirror_mode": {
    "name": "ipython",
    "version": 3
   },
   "file_extension": ".py",
   "mimetype": "text/x-python",
   "name": "python",
   "nbconvert_exporter": "python",
   "pygments_lexer": "ipython3",
   "version": "3.11.3"
  }
 },
 "nbformat": 4,
 "nbformat_minor": 5
}
