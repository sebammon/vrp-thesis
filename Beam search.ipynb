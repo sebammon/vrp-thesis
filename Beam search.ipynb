{
 "cells": [
  {
   "cell_type": "code",
   "execution_count": 6,
   "id": "4cf52f5d",
   "metadata": {},
   "outputs": [],
   "source": [
    "import torch\n",
    "import numpy as np"
   ]
  },
  {
   "cell_type": "code",
   "execution_count": 7,
   "id": "bddd68cf",
   "metadata": {},
   "outputs": [],
   "source": [
    "beam_width = 2\n",
    "batch_size = 3\n",
    "num_nodes = 5"
   ]
  },
  {
   "cell_type": "code",
   "execution_count": 8,
   "id": "1fcf8b6f",
   "metadata": {},
   "outputs": [],
   "source": [
    "torch.manual_seed(42)\n",
    "\n",
    "y = torch.randn(batch_size, num_nodes, num_nodes, 2).type(torch.float)\n",
    "y_pred = torch.nn.functional.softmax(y, dim=3)\n",
    "y_pred = y_pred[:, :, :, 1]"
   ]
  },
  {
   "cell_type": "code",
   "execution_count": 75,
   "id": "1787b02d",
   "metadata": {},
   "outputs": [],
   "source": [
    "y_pred = torch.zeros(1, 5, 5).type(torch.float)\n",
    "\n",
    "for i in range(num_nodes):\n",
    "    j = (i + 1) % num_nodes\n",
    "    k = (i + 2) % num_nodes\n",
    "    y_pred[0][i][i] = 0\n",
    "    y_pred[0][i][j] = 0.8\n",
    "    y_pred[0][i][k] = 0.2"
   ]
  },
  {
   "cell_type": "code",
   "execution_count": 15,
   "id": "718f32f4",
   "metadata": {},
   "outputs": [],
   "source": [
    "class Beamsearch:\n",
    "    \"\"\"\n",
    "    Beam search procedure class.\n",
    "\n",
    "    References:\n",
    "        [1]: https://github.com/OpenNMT/OpenNMT-py/blob/master/onmt/translate/beam.py\n",
    "        [2]: https://github.com/alexnowakvila/QAP_pt/blob/master/src/tsp/beam_search.py\n",
    "        [3]: https://github.com/chaitjo/graph-convnet-tsp/blob/master/utils/beamsearch.py\n",
    "    \"\"\"\n",
    "    def __init__(self, beam_width, trans_probs, random_start=False):\n",
    "        # all transition probabilities\n",
    "        self.trans_probs = trans_probs\n",
    "        self.batch_size = trans_probs.size(0)\n",
    "        self.num_nodes = trans_probs.size(1)\n",
    "        \n",
    "        assert len(trans_probs.shape) == 3, \"transition probabilities need to be 3-dimensional\"\n",
    "        assert trans_probs.size(1) == trans_probs.size(2), \"transition probabilities are not square\"\n",
    "        \n",
    "        # Beamsearch parameters\n",
    "        self.beam_width = beam_width\n",
    "\n",
    "        # TODO: Move tensors to GPU device for faster computation\n",
    "        # tensor data types and device\n",
    "        self.device = None\n",
    "        self.float = torch.float32\n",
    "        self.long = torch.int64\n",
    "        \n",
    "        if random_start == True:\n",
    "            # starting at random nodes\n",
    "            start_nodes = torch.randint(0, self.num_nodes, (self.batch_size, self.beam_width))\n",
    "        else:\n",
    "            # starting at node zero\n",
    "            start_nodes = torch.zeros(self.batch_size, self.beam_width)\n",
    "        \n",
    "        self.start_nodes = start_nodes.type(self.long)\n",
    "        \n",
    "        # TODO: could also mask self-connections\n",
    "        # mask for removing visited nodes etc.\n",
    "        self.mask = torch.ones(self.batch_size, self.beam_width, self.num_nodes).type(self.float)\n",
    "        \n",
    "        # start by masking the starting nodes\n",
    "        self.update_mask(self.start_nodes)\n",
    "        \n",
    "        # transition probability scores up-until current timestep\n",
    "        self.scores = torch.zeros(self.batch_size, self.beam_width).type(self.float)\n",
    "        \n",
    "        # pointers to parents for each timestep\n",
    "        self.parent_pointer  = []\n",
    "        \n",
    "        # nodes at each timestep\n",
    "        self.next_nodes = [self.start_nodes]\n",
    "\n",
    "    def get_current_nodes(self):\n",
    "        \"\"\"\n",
    "        Get the nodes to expand at the current timestep\n",
    "        \"\"\"\n",
    "        current_nodes = self.next_nodes[-1]\n",
    "        current_nodes = current_nodes.unsqueeze(2).expand(self.batch_size,\n",
    "                                                          self.beam_width, \n",
    "                                                          self.num_nodes)\n",
    "        return current_nodes\n",
    "\n",
    "    def step(self):\n",
    "        \"\"\"\n",
    "        Transition to the next timestep of the beam search\n",
    "        \"\"\"\n",
    "        current_nodes = self.get_current_nodes()\n",
    "        trans_probs = self.trans_probs.gather(1, current_nodes)\n",
    "        \n",
    "        if len(self.parent_pointer) == 0:\n",
    "            # first transition, only use the starting nodes\n",
    "            beam_prob = trans_probs\n",
    "            beam_prob[:, 1:] = torch.zeros_like(beam_prob[:, 1:])\n",
    "        else:\n",
    "            # multiply the previous scores (probabilities) with the current ones\n",
    "            expanded_scores = self.scores.unsqueeze(2).expand_as(trans_probs) # b x beam_width x num_nodes\n",
    "            beam_prob = trans_probs * expanded_scores\n",
    "        \n",
    "        # mask out visited nodes\n",
    "        beam_prob = beam_prob * self.mask\n",
    "        \n",
    "        beam_prob = beam_prob.view(beam_prob.size(0), -1) # flatten to (b x beam_width * num_nodes)\n",
    "        \n",
    "        # get k=beam_width best scores and indices\n",
    "        best_scores, best_score_idxs = beam_prob.topk(self.beam_width,\n",
    "                                                      dim=1, largest=True, sorted=True)\n",
    "        \n",
    "        self.scores = best_scores\n",
    "        parent_index = torch.floor_divide(best_score_idxs, self.num_nodes).type(self.long)\n",
    "        \n",
    "        self.parent_pointer.append(parent_index)\n",
    "        \n",
    "        # next nodes\n",
    "        next_node = best_score_idxs - (parent_index * self.num_nodes) # convert flattened indices back\n",
    "        self.next_nodes.append(next_node)\n",
    "        \n",
    "        # keep mask rows of the promising parents (for next masking)\n",
    "        parent_mask = parent_index.unsqueeze(2).expand_as(self.mask)  # (batch_size, beam_size, num_nodes)\n",
    "        self.mask = self.mask.gather(1, parent_mask)\n",
    "        \n",
    "        # mask next nodes (newly added nodes)\n",
    "        self.update_mask(next_node)\n",
    "\n",
    "    def update_mask(self, new_nodes):\n",
    "        \"\"\"\n",
    "        Sets indicies of new_nodes = 0 in the mask.\n",
    "        \n",
    "        Args:\n",
    "            new_nodes: (batch_size, beam_width) of new node indicies\n",
    "        \"\"\"\n",
    "        index = torch.arange(0, self.num_nodes, dtype=self.long).expand_as(self.mask)\n",
    "        new_nodes = new_nodes.unsqueeze(2).expand_as(self.mask)\n",
    "        \n",
    "        # set the mask = 0 at the new_node_idx positions\n",
    "        update_mask = 1 - torch.eq(index, new_nodes).type(self.float)\n",
    "        \n",
    "        self.mask = self.mask * update_mask\n",
    "\n",
    "    def get_beam(self, beam_idx):\n",
    "        \"\"\"\n",
    "        Construct the beam for the given index\n",
    "\n",
    "        Args:\n",
    "            beam_idx int: Index of the beam to construct (0 = best, ..., n = worst)\n",
    "        \"\"\"\n",
    "        # TODO: Fix assertion (with vehicles)\n",
    "        # assert self.num_nodes == len(self.parent_pointers) + 1\n",
    "        \n",
    "        prev_pointer = torch.ones(self.batch_size, 1).type(self.long) * beam_idx\n",
    "        last_node = self.next_nodes[-1].gather(1, prev_pointer)\n",
    "        \n",
    "        path = [last_node]\n",
    "        \n",
    "        for i in range(len(self.parent_pointer) - 1, -1, -1):\n",
    "            prev_pointer = self.parent_pointer[i].gather(1, prev_pointer)\n",
    "            last_node = self.next_nodes[i].gather(1, prev_pointer)\n",
    "            \n",
    "            path.append(last_node)\n",
    "            \n",
    "        path = list(reversed(path))\n",
    "        path = torch.cat(path, dim=-1)\n",
    "        \n",
    "        return path"
   ]
  },
  {
   "cell_type": "code",
   "execution_count": 30,
   "id": "7a6489ea",
   "metadata": {},
   "outputs": [
    {
     "data": {
      "text/plain": [
       "tensor([[[0.3918, 0.0471, 0.1286, 0.1734, 0.9169],\n",
       "         [0.2668, 0.5420, 0.8222, 0.1416, 0.7185],\n",
       "         [0.8625, 0.7068, 0.5043, 0.6735, 0.5679],\n",
       "         [0.7524, 0.6256, 0.8744, 0.3223, 0.2534],\n",
       "         [0.9278, 0.5692, 0.9676, 0.6785, 0.5636]],\n",
       "\n",
       "        [[0.6101, 0.8428, 0.5195, 0.8083, 0.6768],\n",
       "         [0.8746, 0.9288, 0.3569, 0.1551, 0.3673],\n",
       "         [0.9115, 0.6673, 0.5914, 0.2285, 0.8109],\n",
       "         [0.4135, 0.6803, 0.4971, 0.2517, 0.2270],\n",
       "         [0.8393, 0.7098, 0.2992, 0.9525, 0.3195]],\n",
       "\n",
       "        [[0.4856, 0.1799, 0.7187, 0.4437, 0.7327],\n",
       "         [0.4250, 0.7949, 0.7458, 0.3464, 0.7144],\n",
       "         [0.5630, 0.6529, 0.3197, 0.4235, 0.2851],\n",
       "         [0.5760, 0.8546, 0.6979, 0.1914, 0.9422],\n",
       "         [0.2867, 0.8816, 0.4940, 0.7641, 0.9117]]])"
      ]
     },
     "execution_count": 30,
     "metadata": {},
     "output_type": "execute_result"
    }
   ],
   "source": [
    "y_pred"
   ]
  },
  {
   "cell_type": "code",
   "execution_count": 31,
   "id": "43eac4ef",
   "metadata": {
    "scrolled": false
   },
   "outputs": [],
   "source": [
    "beamsearch = Beamsearch(beam_width, trans_probs=y_pred)\n",
    "bs = beamsearch\n",
    "\n",
    "for step in range(num_nodes - 1):\n",
    "    beamsearch.step()"
   ]
  },
  {
   "cell_type": "code",
   "execution_count": 36,
   "id": "7f0922c4",
   "metadata": {},
   "outputs": [
    {
     "data": {
      "text/plain": [
       "tensor([[0, 4, 2, 3, 1],\n",
       "        [0, 3, 2, 4, 1],\n",
       "        [0, 4, 3, 1, 2]])"
      ]
     },
     "execution_count": 36,
     "metadata": {},
     "output_type": "execute_result"
    }
   ],
   "source": [
    "shortest_tours = beamsearch.get_beam(0)\n",
    "shortest_tours"
   ]
  },
  {
   "cell_type": "code",
   "execution_count": null,
   "id": "e7b6a236",
   "metadata": {},
   "outputs": [],
   "source": []
  }
 ],
 "metadata": {
  "kernelspec": {
   "display_name": "Python 3 (ipykernel)",
   "language": "python",
   "name": "python3"
  },
  "language_info": {
   "codemirror_mode": {
    "name": "ipython",
    "version": 3
   },
   "file_extension": ".py",
   "mimetype": "text/x-python",
   "name": "python",
   "nbconvert_exporter": "python",
   "pygments_lexer": "ipython3",
   "version": "3.11.3"
  }
 },
 "nbformat": 4,
 "nbformat_minor": 5
}
