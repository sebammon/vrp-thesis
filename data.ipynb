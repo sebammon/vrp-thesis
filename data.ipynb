{
 "cells": [
  {
   "cell_type": "markdown",
   "metadata": {},
   "source": [
    "# Data Generation\n",
    "\n",
    "This notebook generates the data for the VRP instances."
   ]
  },
  {
   "cell_type": "code",
   "execution_count": null,
   "metadata": {},
   "outputs": [],
   "source": [
    "SOLVE = False"
   ]
  },
  {
   "cell_type": "code",
   "execution_count": 9,
   "metadata": {
    "ExecuteTime": {
     "end_time": "2023-04-18T23:45:31.016732Z",
     "start_time": "2023-04-18T23:45:30.511833Z"
    }
   },
   "outputs": [],
   "source": [
    "import pickle\n",
    "from pathlib import Path\n",
    "\n",
    "import matplotlib.pyplot as plt\n",
    "import numpy as np\n",
    "\n",
    "np.random.seed(42)"
   ]
  },
  {
   "cell_type": "code",
   "execution_count": 10,
   "metadata": {
    "ExecuteTime": {
     "end_time": "2023-04-19T00:00:53.722836Z",
     "start_time": "2023-04-19T00:00:53.714959Z"
    }
   },
   "outputs": [],
   "source": [
    "INSTANCE_PATH = Path(\"data\")\n",
    "RESULTS_PATH = Path(\"results\")\n",
    "\n",
    "if not INSTANCE_PATH.exists():\n",
    "    INSTANCE_PATH.mkdir()"
   ]
  },
  {
   "cell_type": "code",
   "execution_count": 16,
   "metadata": {
    "ExecuteTime": {
     "end_time": "2023-04-18T23:45:33.765597Z",
     "start_time": "2023-04-18T23:45:33.759421Z"
    }
   },
   "outputs": [],
   "source": [
    "def generate_single_instance(num_nodes, demand_low=1, demand_high=10):\n",
    "    depot_location = np.array([[0.5, 0.5]])\n",
    "    depot_demand = np.array([[0]])\n",
    "\n",
    "    locations = np.concatenate((depot_location, np.random.rand(num_nodes, 2)), axis=0)\n",
    "    demands = np.concatenate((depot_demand, np.random.randint(demand_low, demand_high, (num_nodes, 1))), axis=0)\n",
    "\n",
    "    return np.concatenate((locations, demands), axis=1)"
   ]
  },
  {
   "cell_type": "code",
   "execution_count": 17,
   "metadata": {
    "ExecuteTime": {
     "end_time": "2023-04-18T23:45:34.604527Z",
     "start_time": "2023-04-18T23:45:34.593665Z"
    }
   },
   "outputs": [
    {
     "data": {
      "text/plain": [
       "array([[0.5       , 0.5       , 0.        ],\n",
       "       [0.37454012, 0.95071431, 3.        ],\n",
       "       [0.73199394, 0.59865848, 7.        ],\n",
       "       [0.15601864, 0.15599452, 4.        ],\n",
       "       [0.05808361, 0.86617615, 9.        ],\n",
       "       [0.60111501, 0.70807258, 3.        ],\n",
       "       [0.02058449, 0.96990985, 5.        ],\n",
       "       [0.83244264, 0.21233911, 3.        ],\n",
       "       [0.18182497, 0.18340451, 7.        ],\n",
       "       [0.30424224, 0.52475643, 5.        ],\n",
       "       [0.43194502, 0.29122914, 9.        ]])"
      ]
     },
     "execution_count": 17,
     "metadata": {},
     "output_type": "execute_result"
    }
   ],
   "source": [
    "generate_single_instance(10)"
   ]
  },
  {
   "cell_type": "code",
   "execution_count": 18,
   "metadata": {
    "ExecuteTime": {
     "end_time": "2023-04-18T23:45:36.081413Z",
     "start_time": "2023-04-18T23:45:36.068272Z"
    }
   },
   "outputs": [],
   "source": [
    "def generate_instances(num_instances, num_nodes=10):\n",
    "    all_instances = []\n",
    "    for i in range(num_instances):\n",
    "        all_instances.append(generate_single_instance(num_nodes))\n",
    "    return np.array(all_instances)\n"
   ]
  },
  {
   "cell_type": "code",
   "execution_count": 19,
   "metadata": {
    "ExecuteTime": {
     "end_time": "2023-04-18T23:45:37.216729Z",
     "start_time": "2023-04-18T23:45:37.129527Z"
    }
   },
   "outputs": [],
   "source": [
    "instances = generate_instances(2000, 10)"
   ]
  },
  {
   "cell_type": "code",
   "execution_count": 20,
   "metadata": {
    "ExecuteTime": {
     "end_time": "2023-04-18T23:45:38.094244Z",
     "start_time": "2023-04-18T23:45:38.077639Z"
    }
   },
   "outputs": [],
   "source": [
    "with open(INSTANCE_PATH / \"instances.pkl\", \"wb\") as f:\n",
    "    pickle.dump(instances, f)"
   ]
  },
  {
   "cell_type": "markdown",
   "metadata": {},
   "source": [
    "## Visualizing the instances"
   ]
  },
  {
   "cell_type": "code",
   "execution_count": 24,
   "metadata": {
    "ExecuteTime": {
     "end_time": "2023-04-19T00:06:09.361338Z",
     "start_time": "2023-04-19T00:06:09.197234Z"
    }
   },
   "outputs": [
    {
     "data": {
      "text/plain": [
       "<matplotlib.collections.PathCollection at 0x1140b4490>"
      ]
     },
     "execution_count": 24,
     "metadata": {},
     "output_type": "execute_result"
    },
    {
     "data": {
      "image/png": "[encoded data removed]",
      "text/plain": [
       "<Figure size 640x480 with 1 Axes>"
      ]
     },
     "metadata": {},
     "output_type": "display_data"
    }
   ],
   "source": [
    "idx = 10\n",
    "\n",
    "plt.scatter(instances[idx, 1:, 0], instances[idx, 1:, 1])\n",
    "plt.scatter(instances[idx, 0, 0], instances[idx, 0, 1], c=\"r\")"
   ]
  },
  {
   "cell_type": "markdown",
   "metadata": {},
   "source": [
    "# Solving the instances\n",
    "\n",
    "We solve the instances with the [Google OR-Tools](https://developers.google.com/optimization/routing/vrp) and save the solutions. To make use of multiprocessing we can't run the code from the notebook. Instead we run the code from the command line."
   ]
  },
  {
   "cell_type": "code",
   "execution_count": 9,
   "metadata": {
    "ExecuteTime": {
     "end_time": "2023-04-19T00:00:26.666252Z",
     "start_time": "2023-04-18T23:45:44.173509Z"
    }
   },
   "outputs": [
    {
     "name": "stdout",
     "output_type": "stream",
     "text": [
      "Starting processing with 8 workers\r\n",
      "100%|███████████████████████████████████████| 2000/2000 [10:53<00:00,  3.06it/s]\r\n",
      "Done in 882.0996460914612 seconds\r\n"
     ]
    }
   ],
   "source": [
    "if SOLVE:\n",
    "    !python solver.py --filename {INSTANCE_PATH/ \"instances.pkl\"} --num_vehicles 4 --vehicle_capacity 25"
   ]
  },
  {
   "cell_type": "markdown",
   "metadata": {},
   "source": [
    "# Mergin data\n",
    "\n",
    "Merging the instances and solutions"
   ]
  },
  {
   "cell_type": "code",
   "execution_count": 25,
   "metadata": {
    "ExecuteTime": {
     "end_time": "2023-04-19T00:01:39.420362Z",
     "start_time": "2023-04-19T00:01:39.340359Z"
    }
   },
   "outputs": [],
   "source": [
    "with open(RESULTS_PATH / \"vrp_4_25.pkl\", 'rb') as f:\n",
    "    results = pickle.load(f)\n",
    "    \n",
    "with open(INSTANCE_PATH / 'instances.pkl', 'rb') as f:\n",
    "    instances = pickle.load(f)"
   ]
  },
  {
   "cell_type": "code",
   "execution_count": 26,
   "metadata": {
    "ExecuteTime": {
     "end_time": "2023-04-19T00:03:39.760701Z",
     "start_time": "2023-04-19T00:03:39.746648Z"
    }
   },
   "outputs": [
    {
     "data": {
      "text/plain": [
       "[{'classifications': array([-1,  0,  1,  2,  1,  0,  0,  0,  2,  2,  1]),\n",
       "  'routes': {0: [5, 6, 1, 7], 1: [2, 10, 4], 2: [9, 3, 8], 3: []},\n",
       "  'total_distance': 3.9,\n",
       "  'instance': 0},\n",
       " {'classifications': array([-1,  0,  2,  2,  1,  2,  1,  1,  2,  2,  2]),\n",
       "  'routes': {0: [1], 1: [7, 4, 6], 2: [10, 3, 2, 5, 8, 9], 3: []},\n",
       "  'total_distance': 4.266,\n",
       "  'instance': 1},\n",
       " {'classifications': array([-1,  2,  1,  1,  0,  2,  2,  2,  1,  1,  2]),\n",
       "  'routes': {0: [4], 1: [8, 3, 2, 9], 2: [10, 5, 6, 1, 7], 3: []},\n",
       "  'total_distance': 3.474,\n",
       "  'instance': 2}]"
      ]
     },
     "execution_count": 26,
     "metadata": {},
     "output_type": "execute_result"
    }
   ],
   "source": [
    "results[:3]"
   ]
  },
  {
   "cell_type": "code",
   "execution_count": 27,
   "metadata": {
    "ExecuteTime": {
     "end_time": "2023-04-19T00:06:14.942657Z",
     "start_time": "2023-04-19T00:06:14.791937Z"
    }
   },
   "outputs": [
    {
     "data": {
      "text/plain": [
       "<matplotlib.collections.PathCollection at 0x11e9978d0>"
      ]
     },
     "execution_count": 27,
     "metadata": {},
     "output_type": "execute_result"
    },
    {
     "data": {
      "image/png": "[encoded data removed]",
      "text/plain": [
       "<Figure size 640x480 with 1 Axes>"
      ]
     },
     "metadata": {},
     "output_type": "display_data"
    }
   ],
   "source": [
    "plt.scatter(instances[idx, :, 0], instances[idx, :, 1], c=results[idx]['classifications'], s=10 * instances[idx, :, 2])\n",
    "plt.scatter(instances[idx, 0, 0], instances[idx, 0, 1], c=\"r\")"
   ]
  },
  {
   "cell_type": "code",
   "execution_count": 35,
   "metadata": {},
   "outputs": [],
   "source": [
    "# Ensure the order of the instances are correct\n",
    "assert np.all(np.arange(len(results)) == np.fromiter(map(lambda x: x['instance'], results), dtype=int))\n",
    "\n",
    "errors = [s['total_distance'] == 0 for s in results]\n",
    "\n",
    "assert np.sum(errors) == 0"
   ]
  },
  {
   "cell_type": "code",
   "execution_count": 41,
   "metadata": {},
   "outputs": [
    {
     "data": {
      "text/plain": [
       "(array([[0.5       , 0.5       , 0.        ],\n",
       "        [0.06505159, 0.94888554, 2.        ],\n",
       "        [0.96563203, 0.80839735, 4.        ],\n",
       "        [0.30461377, 0.09767211, 8.        ],\n",
       "        [0.68423303, 0.44015249, 7.        ],\n",
       "        [0.12203823, 0.49517691, 9.        ],\n",
       "        [0.03438852, 0.9093204 , 8.        ],\n",
       "        [0.25877998, 0.66252228, 5.        ],\n",
       "        [0.31171108, 0.52006802, 2.        ],\n",
       "        [0.54671028, 0.18485446, 5.        ],\n",
       "        [0.96958463, 0.77513282, 8.        ]]),\n",
       " array([-1,  0,  1,  2,  1,  0,  0,  0,  2,  2,  1]))"
      ]
     },
     "execution_count": 41,
     "metadata": {},
     "output_type": "execute_result"
    }
   ],
   "source": [
    "dataset = [(x, y['classifications']) for (x, y) in zip(instances, results)]\n",
    "dataset[0]"
   ]
  },
  {
   "cell_type": "code",
   "execution_count": 42,
   "metadata": {},
   "outputs": [],
   "source": [
    "with open(INSTANCE_PATH / 'dataset.pkl', 'wb') as f:\n",
    "    pickle.dump(dataset, f)"
   ]
  },
  {
   "cell_type": "code",
   "execution_count": null,
   "metadata": {},
   "outputs": [],
   "source": []
  }
 ],
 "metadata": {
  "kernelspec": {
   "display_name": "Python 3 (ipykernel)",
   "language": "python",
   "name": "python3"
  },
  "language_info": {
   "codemirror_mode": {
    "name": "ipython",
    "version": 3
   },
   "file_extension": ".py",
   "mimetype": "text/x-python",
   "name": "python",
   "nbconvert_exporter": "python",
   "pygments_lexer": "ipython3",
   "version": "3.11.2"
  }
 },
 "nbformat": 4,
 "nbformat_minor": 1
}
